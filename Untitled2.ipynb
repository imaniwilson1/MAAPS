{
 "cells": [
  {
   "cell_type": "code",
   "execution_count": 1,
   "id": "9b81ccb4-59f0-4994-a985-2014653cb3c2",
   "metadata": {},
   "outputs": [
    {
     "name": "stdout",
     "output_type": "stream",
     "text": [
      "Collecting dash\n",
      "  Obtaining dependency information for dash from https://files.pythonhosted.org/packages/9b/b4/d522c16b41a8da013fd60a67f9618e57c504cd2c80e02a7a861413b93906/dash-2.13.0-py3-none-any.whl.metadata\n",
      "  Using cached dash-2.13.0-py3-none-any.whl.metadata (11 kB)\n",
      "Collecting Flask<2.3.0,>=1.0.4 (from dash)\n",
      "  Using cached Flask-2.2.5-py3-none-any.whl (101 kB)\n",
      "Requirement already satisfied: Werkzeug<2.3.0 in c:\\users\\mediwils\\appdata\\local\\anaconda3\\envs\\gv2_env\\lib\\site-packages (from dash) (2.2.3)\n",
      "Requirement already satisfied: plotly>=5.0.0 in c:\\users\\mediwils\\appdata\\local\\anaconda3\\envs\\gv2_env\\lib\\site-packages (from dash) (5.16.1)\n",
      "Requirement already satisfied: dash-html-components==2.0.0 in c:\\users\\mediwils\\appdata\\local\\anaconda3\\envs\\gv2_env\\lib\\site-packages (from dash) (2.0.0)\n",
      "Requirement already satisfied: dash-core-components==2.0.0 in c:\\users\\mediwils\\appdata\\local\\anaconda3\\envs\\gv2_env\\lib\\site-packages (from dash) (2.0.0)\n",
      "Requirement already satisfied: dash-table==5.0.0 in c:\\users\\mediwils\\appdata\\local\\anaconda3\\envs\\gv2_env\\lib\\site-packages (from dash) (5.0.0)\n",
      "Requirement already satisfied: typing-extensions>=4.1.1 in c:\\users\\mediwils\\appdata\\local\\anaconda3\\envs\\gv2_env\\lib\\site-packages (from dash) (4.7.1)\n",
      "Requirement already satisfied: requests in c:\\users\\mediwils\\appdata\\local\\anaconda3\\envs\\gv2_env\\lib\\site-packages (from dash) (2.31.0)\n",
      "Requirement already satisfied: retrying in c:\\users\\mediwils\\appdata\\local\\anaconda3\\envs\\gv2_env\\lib\\site-packages (from dash) (1.3.4)\n",
      "Requirement already satisfied: ansi2html in c:\\users\\mediwils\\appdata\\local\\anaconda3\\envs\\gv2_env\\lib\\site-packages (from dash) (1.8.0)\n",
      "Requirement already satisfied: nest-asyncio in c:\\users\\mediwils\\appdata\\local\\anaconda3\\envs\\gv2_env\\lib\\site-packages (from dash) (1.5.6)\n",
      "Requirement already satisfied: setuptools in c:\\users\\mediwils\\appdata\\local\\anaconda3\\envs\\gv2_env\\lib\\site-packages (from dash) (68.1.2)\n",
      "Requirement already satisfied: Jinja2>=3.0 in c:\\users\\mediwils\\appdata\\local\\anaconda3\\envs\\gv2_env\\lib\\site-packages (from Flask<2.3.0,>=1.0.4->dash) (3.1.2)\n",
      "Requirement already satisfied: itsdangerous>=2.0 in c:\\users\\mediwils\\appdata\\local\\anaconda3\\envs\\gv2_env\\lib\\site-packages (from Flask<2.3.0,>=1.0.4->dash) (2.1.2)\n",
      "Requirement already satisfied: click>=8.0 in c:\\users\\mediwils\\appdata\\local\\anaconda3\\envs\\gv2_env\\lib\\site-packages (from Flask<2.3.0,>=1.0.4->dash) (8.1.7)\n",
      "Requirement already satisfied: tenacity>=6.2.0 in c:\\users\\mediwils\\appdata\\local\\anaconda3\\envs\\gv2_env\\lib\\site-packages (from plotly>=5.0.0->dash) (8.2.3)\n",
      "Requirement already satisfied: packaging in c:\\users\\mediwils\\appdata\\local\\anaconda3\\envs\\gv2_env\\lib\\site-packages (from plotly>=5.0.0->dash) (23.1)\n",
      "Requirement already satisfied: MarkupSafe>=2.1.1 in c:\\users\\mediwils\\appdata\\local\\anaconda3\\envs\\gv2_env\\lib\\site-packages (from Werkzeug<2.3.0->dash) (2.1.3)\n",
      "Requirement already satisfied: charset-normalizer<4,>=2 in c:\\users\\mediwils\\appdata\\local\\anaconda3\\envs\\gv2_env\\lib\\site-packages (from requests->dash) (3.2.0)\n",
      "Requirement already satisfied: idna<4,>=2.5 in c:\\users\\mediwils\\appdata\\local\\anaconda3\\envs\\gv2_env\\lib\\site-packages (from requests->dash) (3.4)\n",
      "Requirement already satisfied: urllib3<3,>=1.21.1 in c:\\users\\mediwils\\appdata\\local\\anaconda3\\envs\\gv2_env\\lib\\site-packages (from requests->dash) (2.0.4)\n",
      "Requirement already satisfied: certifi>=2017.4.17 in c:\\users\\mediwils\\appdata\\local\\anaconda3\\envs\\gv2_env\\lib\\site-packages (from requests->dash) (2023.7.22)\n",
      "Requirement already satisfied: six>=1.7.0 in c:\\users\\mediwils\\appdata\\local\\anaconda3\\envs\\gv2_env\\lib\\site-packages (from retrying->dash) (1.16.0)\n",
      "Requirement already satisfied: colorama in c:\\users\\mediwils\\appdata\\local\\anaconda3\\envs\\gv2_env\\lib\\site-packages (from click>=8.0->Flask<2.3.0,>=1.0.4->dash) (0.4.6)\n",
      "Using cached dash-2.13.0-py3-none-any.whl (10.4 MB)\n",
      "Installing collected packages: Flask, dash\n",
      "Successfully installed Flask-2.2.5 dash-2.13.0\n"
     ]
    }
   ],
   "source": [
    "!pip install dash"
   ]
  },
  {
   "cell_type": "code",
   "execution_count": 1,
   "id": "3066ffba-040b-4326-a34b-5533b870b7ed",
   "metadata": {},
   "outputs": [],
   "source": [
    "from dash import Dash, dcc, html\n",
    "from plotly import data\n",
    "import plotly.express as px"
   ]
  },
  {
   "cell_type": "code",
   "execution_count": 5,
   "id": "c4a472f4-9489-48b5-9120-a729115eb7c0",
   "metadata": {},
   "outputs": [
    {
     "ename": "SyntaxError",
     "evalue": "incomplete input (2316833109.py, line 25)",
     "output_type": "error",
     "traceback": [
      "\u001b[1;31m---------------------------------------------------------------------------\u001b[0m",
      "\u001b[1;31mSyntaxError\u001b[0m                               Traceback (most recent call last)",
      "File \u001b[1;32m~\\AppData\\Local\\anaconda3\\envs\\gv2_env\\Lib\\site-packages\\IPython\\core\\compilerop.py:86\u001b[0m, in \u001b[0;36mCachingCompiler.ast_parse\u001b[1;34m(self, source, filename, symbol)\u001b[0m\n\u001b[0;32m     81\u001b[0m \u001b[38;5;28;01mdef\u001b[39;00m \u001b[38;5;21mast_parse\u001b[39m(\u001b[38;5;28mself\u001b[39m, source, filename\u001b[38;5;241m=\u001b[39m\u001b[38;5;124m'\u001b[39m\u001b[38;5;124m<unknown>\u001b[39m\u001b[38;5;124m'\u001b[39m, symbol\u001b[38;5;241m=\u001b[39m\u001b[38;5;124m'\u001b[39m\u001b[38;5;124mexec\u001b[39m\u001b[38;5;124m'\u001b[39m):\n\u001b[0;32m     82\u001b[0m \u001b[38;5;250m    \u001b[39m\u001b[38;5;124;03m\"\"\"Parse code to an AST with the current compiler flags active.\u001b[39;00m\n\u001b[0;32m     83\u001b[0m \n\u001b[0;32m     84\u001b[0m \u001b[38;5;124;03m    Arguments are exactly the same as ast.parse (in the standard library),\u001b[39;00m\n\u001b[0;32m     85\u001b[0m \u001b[38;5;124;03m    and are passed to the built-in compile function.\"\"\"\u001b[39;00m\n\u001b[1;32m---> 86\u001b[0m     \u001b[38;5;28;01mreturn\u001b[39;00m \u001b[38;5;28mcompile\u001b[39m(source, filename, symbol, \u001b[38;5;28mself\u001b[39m\u001b[38;5;241m.\u001b[39mflags \u001b[38;5;241m|\u001b[39m PyCF_ONLY_AST, \u001b[38;5;241m1\u001b[39m)\n",
      "\u001b[1;31mSyntaxError\u001b[0m: incomplete input (2316833109.py, line 25)"
     ]
    }
   ],
   "source": [
    "tabs_styles = {\n",
    "    'height': '51px'\n",
    "}\n",
    "tab_style = {\n",
    "    'borderBottom': '1px solid #d6d6d6',\n",
    "    'padding': '2px',\n",
    "    'fontWeight': 'bold'\n",
    "}\n",
    "\n",
    "tab_selected_style = {\n",
    "    'borderTop': '1px solid #d6d6d6',\n",
    "    'borderBottom': '1px solid #d6d6d6',\n",
    "    'backgroundColor': 'black',\n",
    "    'color': 'yellow',\n",
    "    'padding': '10px'\n",
    "}\n",
    "dcc.Tabs(id=\"all-tabs-inline\", value='tab-1', children=[\n",
    "            dcc.Tab(label='Advert Locations', value='tab-1', style=tab_style, selected_style=tab_selected_style),\n",
    "            dcc.Tab(label='LSOA Summary', value='tab-2', style=tab_style, selected_style=tab_selected_style),\n",
    "            dcc.Tab(label='Advert Counts', value='tab-3', style=tab_style, selected_style=tab_selected_style),],\n",
    "            colors={\n",
    "            \"border\": \"yellow\",\n",
    "            \"primary\": \"red\",\n",
    "            \"background\": \"orange\"\n",
    "            }"
   ]
  },
  {
   "cell_type": "code",
   "execution_count": null,
   "id": "19fd8b90-831d-4ec2-b739-bca301b93cd6",
   "metadata": {},
   "outputs": [],
   "source": []
  }
 ],
 "metadata": {
  "kernelspec": {
   "display_name": "Python 3 (ipykernel)",
   "language": "python",
   "name": "python3"
  },
  "language_info": {
   "codemirror_mode": {
    "name": "ipython",
    "version": 3
   },
   "file_extension": ".py",
   "mimetype": "text/x-python",
   "name": "python",
   "nbconvert_exporter": "python",
   "pygments_lexer": "ipython3",
   "version": "3.11.4"
  }
 },
 "nbformat": 4,
 "nbformat_minor": 5
}
