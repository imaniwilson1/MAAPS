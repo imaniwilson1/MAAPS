{
 "cells": [
  {
   "cell_type": "code",
   "execution_count": 1,
   "id": "77af1106-d005-495a-9e6d-32f60cb857b1",
   "metadata": {},
   "outputs": [],
   "source": [
    "import pandas as pd\n",
    "# Creating the dataframe\n",
    "df = pd.read_csv(\"AdvertData.csv\")"
   ]
  },
  {
   "cell_type": "code",
   "execution_count": 2,
   "id": "c5945ad3-be95-4c13-b8d5-1be675f50b30",
   "metadata": {},
   "outputs": [
    {
     "name": "stdout",
     "output_type": "stream",
     "text": [
      "    Rinitials Cinitials    Codedate       LSOA                IMGid  \\\n",
      "0          IW        IW  17/05/2023  E01011597         IMG_4652.JPG   \n",
      "1          IW        IW  17/05/2023  E01011597         IMG_4653.JPG   \n",
      "2          IW        IW  17/05/2023  E01011597         IMG_4657.JPG   \n",
      "3          IW        IW  17/05/2023  E01011597         IMG_4658.JPG   \n",
      "4          IW        IW  17/05/2023  E01011597         IMG_4659.JPG   \n",
      "..        ...       ...         ...        ...                  ...   \n",
      "921        MM        IW  20/06/2023  E01011271  20230516_162732.jpg   \n",
      "922        MM        IW  20/06/2023  E01011271  20230516_162732.jpg   \n",
      "923        MM        IW  20/06/2023  E01011271  20230516_165621.jpg   \n",
      "924        MM        IW  20/06/2023  E01011271  20230516_165621.jpg   \n",
      "925        MM        IW  20/06/2023  E01011271  20230516_171251.jpg   \n",
      "\n",
      "        IMGdate           ADid     ASSETid  Long  Lat  ...  Satfatdensity  \\\n",
      "0    11/05/2023  CF_GLMR_01_01  CF_GLMR_01   NaN  NaN  ...            NaN   \n",
      "1    11/05/2023  CF_GLMR_02_01  CF_GLMR_02   NaN  NaN  ...            NaN   \n",
      "2    11/05/2023  CF_GLMR_03_01  CF_GLMR_03   NaN  NaN  ...            NaN   \n",
      "3    11/05/2023  CF_GLMR_04_01  CF_GLMR_04   NaN  NaN  ...           1.23   \n",
      "4    11/05/2023  CF_GLMR_05_01  CF_GLMR_05   NaN  NaN  ...            NaN   \n",
      "..          ...            ...         ...   ...  ...  ...            ...   \n",
      "921  16/05/2023  GR_FHHS_05_02  GR_FHHS_05   NaN  NaN  ...            NaN   \n",
      "922  16/05/2023  GR_FHHS_05_03  GR_FHHS_05   NaN  NaN  ...            NaN   \n",
      "923  16/05/2023  GR_FHHS_06_01  GR_FHHS_06   NaN  NaN  ...            NaN   \n",
      "924  16/05/2023  GR_FHHS_06_02  GR_FHHS_06   NaN  NaN  ...            NaN   \n",
      "925  16/05/2023  GR_FHHS_07_01  GR_FHHS_07   NaN  NaN  ...            NaN   \n",
      "\n",
      "     Sugardensity  Sodiumdensity Ekcaldensity Fibredensity  Proteindensity  \\\n",
      "0             NaN            NaN          NaN          NaN             NaN   \n",
      "1             NaN            NaN          NaN          NaN             NaN   \n",
      "2             NaN            NaN          NaN          NaN             NaN   \n",
      "3            0.14         191.78       123.29          0.0            6.71   \n",
      "4             NaN            NaN          NaN          NaN             NaN   \n",
      "..            ...            ...          ...          ...             ...   \n",
      "921           NaN            NaN          NaN          NaN             NaN   \n",
      "922           NaN            NaN          NaN          NaN             NaN   \n",
      "923           NaN            NaN          NaN          NaN             NaN   \n",
      "924           NaN            NaN          NaN          NaN             NaN   \n",
      "925           NaN            NaN          NaN          NaN             NaN   \n",
      "\n",
      "     FVN  NPMscore NPMstatus ADcompliance  \n",
      "0    NaN       NaN       NaN          NaN  \n",
      "1    NaN       NaN       NaN          NaN  \n",
      "2    NaN       NaN       NaN          NaN  \n",
      "3    0.0       0.0       0.0          0.0  \n",
      "4    NaN       NaN       NaN          NaN  \n",
      "..   ...       ...       ...          ...  \n",
      "921  NaN       NaN       NaN          NaN  \n",
      "922  NaN       NaN       NaN          NaN  \n",
      "923  NaN       NaN       NaN          NaN  \n",
      "924  NaN       NaN       NaN          NaN  \n",
      "925  NaN       NaN       NaN          NaN  \n",
      "\n",
      "[926 rows x 36 columns]\n"
     ]
    }
   ],
   "source": [
    "print(df)"
   ]
  },
  {
   "cell_type": "code",
   "execution_count": null,
   "id": "82bcc24f-7e50-40e2-8d68-a44052676c4f",
   "metadata": {},
   "outputs": [],
   "source": []
  },
  {
   "cell_type": "code",
   "execution_count": 27,
   "id": "c5638b7d-f412-4b36-ba7f-9b816520c40d",
   "metadata": {},
   "outputs": [
    {
     "name": "stdout",
     "output_type": "stream",
     "text": [
      "          LSOA           ADid  ADtype\n",
      "0    E01011597  CF_GLMR_01_01    12.0\n",
      "1    E01011597  CF_GLMR_02_01    12.0\n",
      "2    E01011597  CF_GLMR_03_01     8.0\n",
      "3    E01011597  CF_GLMR_04_01     1.0\n",
      "4    E01011597  CF_GLMR_05_01     1.0\n",
      "..         ...            ...     ...\n",
      "921  E01011271  GR_FHHS_05_02     2.0\n",
      "922  E01011271  GR_FHHS_05_03     2.0\n",
      "923  E01011271  GR_FHHS_06_01     2.0\n",
      "924  E01011271  GR_FHHS_06_02     2.0\n",
      "925  E01011271  GR_FHHS_07_01    11.0\n",
      "\n",
      "[926 rows x 3 columns]\n"
     ]
    }
   ],
   "source": [
    "Asset_types = df[['LSOA', 'ADid', 'ADtype']].copy()\n",
    "Asset_types.groupby(\"LSOA\")\n",
    "print(Asset_types)"
   ]
  },
  {
   "cell_type": "code",
   "execution_count": 46,
   "id": "c34069ad-8de0-41d3-8746-3ea2febe699a",
   "metadata": {},
   "outputs": [
    {
     "name": "stdout",
     "output_type": "stream",
     "text": [
      "Empty DataFrame\n",
      "Columns: []\n",
      "Index: [(E01011267, GR_WQGB_01_01), (E01011267, GR_WQGB_02_01), (E01011267, GR_WQGB_03_01), (E01011267, GR_WQGB_04_01), (E01011267, GR_WQGB_05_01), (E01011267, GR_WQGB_05_02), (E01011267, GR_WQGB_05_03), (E01011267, GR_WQGB_05_04), (E01011267, GR_WQGB_05_05), (E01011267, GR_WQGB_05_06), (E01011267, GR_WQGB_06_01), (E01011267, GR_WQGB_06_02), (E01011267, GR_WQGB_06_03), (E01011267, GR_WQGB_06_04), (E01011267, GR_WQGB_06_05), (E01011267, GR_WQGB_06_06), (E01011267, GR_WQGB_06_07), (E01011267, GR_WQGB_07_01), (E01011267, GR_WQGB_08_01), (E01011267, GR_WQGB_09_01), (E01011267, GR_WQGB_10_01), (E01011267, GR_WQGB_11_01), (E01011271, GR_FHHS_01_01), (E01011271, GR_FHHS_02_01), (E01011271, GR_FHHS_03_01), (E01011271, GR_FHHS_04_01), (E01011271, GR_FHHS_05_01), (E01011271, GR_FHHS_05_02), (E01011271, GR_FHHS_05_03), (E01011271, GR_FHHS_06_01), (E01011271, GR_FHHS_06_02), (E01011271, GR_FHHS_07_01), (E01011287, AY_SGVS_01_01), (E01011287, AY_SGVS_02_01), (E01011287, AY_SGVS_03_01), (E01011287, AY_SGVS_04_01), (E01011287, AY_SGVS_05_01), (E01011287, AY_SGVS_06_01), (E01011287, AY_SGVS_07_01), (E01011287, AY_SGVS_08_01), (E01011287, AY_SGVS_09_01), (E01011287, AY_SGVS_09_02), (E01011287, AY_SGVS_10_01), (E01011319, BH_BRAA_01_01), (E01011319, BH_BRAA_02_01), (E01011319, BH_BRAA_03_01), (E01011319, BH_BRAA_04_01), (E01011319, BH_BRAA_05_01), (E01011319, BH_BRAA_06_01), (E01011319, BH_BRAA_07_01), (E01011319, BH_BRAA_08_01), (E01011319, BH_BRAA_09_01), (E01011319, BH_BRAA_10_01), (E01011329, CF_CCGW_01_01), (E01011329, CF_CCGW_02_01), (E01011329, CF_CCGW_03_01), (E01011329, CF_CCGW_04_01), (E01011329, CF_CCGW_05_01), (E01011329, CF_CCGW_06_01), (E01011329, CF_CCGW_07_01), (E01011329, CF_CCGW_08_01), (E01011329, CF_CCGW_09_01), (E01011341, TN_VTDH_01_01), (E01011341, TN_VTDH_02_01), (E01011341, TN_VTDH_03_01), (E01011341, TN_VTDH_04_01), (E01011341, TN_VTDH_05_01), (E01011341, TN_VTDH_06_01), (E01011341, TN_VTDH_07_01), (E01011341, TN_VTDH_08_01), (E01011341, TN_VTDH_09_01), (E01011341, TN_VTDH_10_01), (E01011341, TN_VTDH_11_01), (E01011341, TN_VTDH_12_01), (E01011341, TN_VTDH_13_01), (E01011341, TN_VTDH_14_01), (E01011341, TN_VTDH_15_01), (E01011341, TN_VTDH_16_01), (E01011341, TN_VTDH_17_01), (E01011341, TN_VTDH_18_01), (E01011341, TN_VTDH_19_01), (E01011341, TN_VTDH_20_01), (E01011341, TN_VTDH_21_01), (E01011341, TN_VTDH_22_01), (E01011341, TN_VTDH_23_01), (E01011341, TN_VTDH_24_01), (E01011341, TN_VTDH_25_01), (E01011341, TN_VTDH_26_01), (E01011341, TN_VTDH_26_02), (E01011341, TN_VTDH_26_03), (E01011341, TN_VTDH_26_04), (E01011341, TN_VTDH_26_05), (E01011341, TN_VTDH_26_06), (E01011341, TN_VTDH_26_07), (E01011341, TN_VTDH_27_01), (E01011341, TN_VTDH_28_01), (E01011341, TN_VTDH_29_01), (E01011341, TN_VTDH_30_01), (E01011341, TN_VTDH_31_01), (E01011341, TN_VTDH_32_01), ...]\n",
      "\n",
      "[833 rows x 0 columns]\n"
     ]
    }
   ],
   "source": [
    "#reshape dataframe\n",
    "# reshape the DataFrame from long to wide format\n",
    "Asset_types_wide = Asset_types.pivot_table(index=['LSOA', 'ADid'], columns='ADtype')\n",
    "\n",
    "print(Asset_types_wide)"
   ]
  },
  {
   "cell_type": "code",
   "execution_count": 29,
   "id": "d765f927-b156-455d-a099-1e6bb8f0cf7b",
   "metadata": {},
   "outputs": [
    {
     "data": {
      "text/plain": [
       "LSOA\n",
       "E01011267     24\n",
       "E01011271     10\n",
       "E01011287     14\n",
       "E01011319     10\n",
       "E01011329      9\n",
       "E01011341    105\n",
       "E01011353      7\n",
       "E01011363    165\n",
       "E01011368     16\n",
       "E01011372     20\n",
       "E01011383      9\n",
       "E01011388      9\n",
       "E01011397     40\n",
       "E01011427      6\n",
       "E01011445     67\n",
       "E01011448     62\n",
       "E01011477     73\n",
       "E01011522     11\n",
       "E01011597     34\n",
       "E01011605      1\n",
       "E01011625      8\n",
       "E01011642     21\n",
       "E01011651     17\n",
       "E01011662      4\n",
       "E01011694     20\n",
       "E01011726     23\n",
       "E01032496     16\n",
       "E01033015    105\n",
       "E01033021     19\n",
       "Name: ADtype, dtype: int64"
      ]
     },
     "execution_count": 29,
     "metadata": {},
     "output_type": "execute_result"
    }
   ],
   "source": [
    "Asset_types.groupby('LSOA').ADtype.count()"
   ]
  }
 ],
 "metadata": {
  "kernelspec": {
   "display_name": "Python 3 (ipykernel)",
   "language": "python",
   "name": "python3"
  },
  "language_info": {
   "codemirror_mode": {
    "name": "ipython",
    "version": 3
   },
   "file_extension": ".py",
   "mimetype": "text/x-python",
   "name": "python",
   "nbconvert_exporter": "python",
   "pygments_lexer": "ipython3",
   "version": "3.11.4"
  }
 },
 "nbformat": 4,
 "nbformat_minor": 5
}
