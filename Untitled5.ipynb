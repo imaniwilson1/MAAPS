{
 "cells": [
  {
   "cell_type": "code",
   "execution_count": null,
   "id": "a5cba8df-8d1a-40e4-be48-605c77b57fc8",
   "metadata": {},
   "outputs": [],
   "source": [
    "# IMD file contains IMD and AHAH data for leeds (lsoa)\n",
    "IMD= gpd.read_file('IMD.gpkg')\n",
    "\n",
    "IMD_subset =IMD.rename(columns={'priority_places_for_food_oct22_pp_dec_domain_supermarket_proximity':'Priority Places for Food Index: Supermarket proximity decile',\n",
    " 'priority_places_for_food_oct22_pp_dec_domain_supermarket_accessibility':'Priority Places for Food Index: Supermarket accessibility decile',\n",
    " 'priority_places_for_food_oct22_pp_dec_domain_ecommerce_access':'Priority Places for Food Index: Online supermarket delivery access decile',\n",
    " 'priority_places_for_food_oct22_pp_dec_domain_socio_demographic':'Priority Places for Food Index: Socio-demographic determinants of food insecurity decile',\n",
    " 'priority_places_for_food_oct22_pp_dec_domain_nonsupermarket_proximity':'Priority Places for Food Index: Non-supermarket food retail proximity decile',\n",
    " 'priority_places_for_food_oct22_pp_dec_domain_food_for_families':'Priority Places for Food Index: Need for further food support decile',\n",
    " 'priority_places_for_food_oct22_pp_dec_domain_fuel_poverty':'Priority Places for Food Index: Fuel poverty decile',\n",
    " 'priority_places_for_food_oct22_pp_dec_combined':'Priority Places for Food Index: Overall decile',\n",
    " 'IMD_Decile':'Index of Multiple Deprivation Decile'})\n",
    "adverts_lsoa =IMD_subset.merge(adverts_lsoa, right_on='LSOA',left_on='lsoa11cd', how='left')"
   ]
  }
 ],
 "metadata": {
  "kernelspec": {
   "display_name": "Python 3 (ipykernel)",
   "language": "python",
   "name": "python3"
  },
  "language_info": {
   "codemirror_mode": {
    "name": "ipython",
    "version": 3
   },
   "file_extension": ".py",
   "mimetype": "text/x-python",
   "name": "python",
   "nbconvert_exporter": "python",
   "pygments_lexer": "ipython3",
   "version": "3.11.4"
  }
 },
 "nbformat": 4,
 "nbformat_minor": 5
}
